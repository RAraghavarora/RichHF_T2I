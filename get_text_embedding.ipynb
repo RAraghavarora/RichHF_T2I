{
 "cells": [
  {
   "cell_type": "markdown",
   "metadata": {},
   "source": [
    "# Extract text embeddings from image captions"
   ]
  },
  {
   "cell_type": "markdown",
   "metadata": {},
   "source": [
    "## Load dataset"
   ]
  },
  {
   "cell_type": "code",
   "execution_count": null,
   "metadata": {},
   "outputs": [],
   "source": [
    "from datasets import load_dataset\n",
    "from tqdm import tqdm\n",
    "import torch\n",
    "import transformers\n",
    "import numpy as np"
   ]
  },
  {
   "cell_type": "code",
   "execution_count": 2,
   "metadata": {},
   "outputs": [],
   "source": [
    "rhf_dataset_dict = load_dataset('RAraghavarora/RichHumanFeedback')"
   ]
  },
  {
   "cell_type": "markdown",
   "metadata": {},
   "source": [
    "## Extract embeddings"
   ]
  },
  {
   "cell_type": "markdown",
   "metadata": {},
   "source": [
    "### BERT"
   ]
  },
  {
   "cell_type": "code",
   "execution_count": 3,
   "metadata": {},
   "outputs": [],
   "source": [
    "from transformers import BertTokenizer, BertModel"
   ]
  },
  {
   "cell_type": "code",
   "execution_count": 4,
   "metadata": {},
   "outputs": [],
   "source": [
    "def extract_bert_embedding(dataset):\n",
    "    \"\"\"\n",
    "    Extract BERT CLS embeddings for all image captions in the given dataset\n",
    "    \"\"\"\n",
    "    device = torch.device(\"cuda\" if torch.cuda.is_available() else \"cpu\")\n",
    "    tokenizer = BertTokenizer.from_pretrained(\"bert-large-uncased\")\n",
    "    model = BertModel.from_pretrained(\"bert-large-uncased\")\n",
    "    model.to(device)\n",
    "    cls_embeddings = []\n",
    "    for text in tqdm(dataset):      \n",
    "        inputs = tokenizer(text,return_tensors='pt')\n",
    "        inputs = {key: value.to(device) for key, value in inputs.items()}\n",
    "        with torch.no_grad():\n",
    "                outputs = model(**inputs)\n",
    "                cls_embedding = outputs.last_hidden_state[:, 0, :]\n",
    "        cls_embeddings.append(cls_embedding.cpu().numpy())\n",
    "    cls_embeddings = np.vstack(cls_embeddings)\n",
    "    torch.cuda.empty_cache()\n",
    "    return cls_embeddings"
   ]
  },
  {
   "cell_type": "markdown",
   "metadata": {},
   "source": [
    "### Sentence-T5"
   ]
  },
  {
   "cell_type": "code",
   "execution_count": 5,
   "metadata": {},
   "outputs": [],
   "source": [
    "from sentence_transformers import SentenceTransformer"
   ]
  },
  {
   "cell_type": "code",
   "execution_count": 6,
   "metadata": {},
   "outputs": [],
   "source": [
    "def extract_sentence_T5_embedding(dataset):\n",
    "    \"\"\"\n",
    "    Extract sentence-T5 embeddings for all image captions in the given dataset\n",
    "    \"\"\"\n",
    "    device = torch.device(\"cuda\" if torch.cuda.is_available() else \"cpu\")\n",
    "    model = SentenceTransformer('sentence-transformers/sentence-t5-large',device=device)\n",
    "    embeddings = []\n",
    "    for text in tqdm(dataset):      \n",
    "        embedding = model.encode(text)\n",
    "        embeddings.append(embedding)\n",
    "    embeddings = np.vstack(embeddings)\n",
    "    torch.cuda.empty_cache()\n",
    "    return embeddings"
   ]
  },
  {
   "cell_type": "markdown",
   "metadata": {},
   "source": [
    "### NV-Embed-v2"
   ]
  },
  {
   "cell_type": "code",
   "execution_count": 7,
   "metadata": {},
   "outputs": [],
   "source": [
    "def extract_nv_embed_v2_embedding(dataset):\n",
    "    \"\"\"\n",
    "    Extract NV-Embed-V2 embeddings for all image captions in the given dataset\n",
    "    \"\"\"\n",
    "    device = torch.device(\"cuda\" if torch.cuda.is_available() else \"cpu\")\n",
    "    model = SentenceTransformer('nvidia/NV-Embed-v2', trust_remote_code=True, device=device)\n",
    "    model.max_seq_length = 32768\n",
    "    model.tokenizer.padding_side=\"right\"\n",
    "    def add_eos(input_examples):\n",
    "        input_examples = [input_example + model.tokenizer.eos_token for input_example in input_examples]\n",
    "        return input_examples\n",
    "    embeddings = []\n",
    "    for text in tqdm(dataset):      \n",
    "        embedding = model.encode(add_eos(text), batch_size=1, normalize_embeddings=True)\n",
    "        embeddings.append(embedding)\n",
    "    embeddings = np.vstack(embeddings)\n",
    "    torch.cuda.empty_cache()\n",
    "    return embeddings"
   ]
  },
  {
   "cell_type": "markdown",
   "metadata": {},
   "source": [
    "### gte-Qwen2-7B-instruct"
   ]
  },
  {
   "cell_type": "code",
   "execution_count": 8,
   "metadata": {},
   "outputs": [],
   "source": [
    "def extract_qwen_embedding(dataset):\n",
    "    \"\"\"\n",
    "    Extract gte-Qwen2-7B-instruct embeddings for all image captions in the given dataset\n",
    "    \"\"\"\n",
    "    device = torch.device(\"cuda\" if torch.cuda.is_available() else \"cpu\")\n",
    "    model = SentenceTransformer(\"Alibaba-NLP/gte-Qwen2-7B-instruct\", trust_remote_code=True, device=device)\n",
    "    embeddings = []\n",
    "    for text in tqdm(dataset):      \n",
    "        embedding = model.encode(text)\n",
    "        embeddings.append(embedding)\n",
    "    embeddings = np.vstack(embeddings)\n",
    "    torch.cuda.empty_cache()\n",
    "    return embeddings"
   ]
  },
  {
   "cell_type": "markdown",
   "metadata": {},
   "source": [
    "### SFR-Embedding-2_R"
   ]
  },
  {
   "cell_type": "code",
   "execution_count": 9,
   "metadata": {},
   "outputs": [],
   "source": [
    "def extract_sfr_embedding(dataset):\n",
    "    \"\"\"\n",
    "    Extract SFR-Embedding-2_R embeddings for all image captions in the given dataset\n",
    "    \"\"\"\n",
    "    device = torch.device(\"cuda\" if torch.cuda.is_available() else \"cpu\")\n",
    "    model = SentenceTransformer(\"Salesforce/SFR-Embedding-2_R\", trust_remote_code=True, device=device)\n",
    "    embeddings = []\n",
    "    for text in tqdm(dataset):      \n",
    "        embedding = model.encode(text)\n",
    "        embeddings.append(embedding)\n",
    "    embeddings = np.vstack(embeddings)\n",
    "    torch.cuda.empty_cache()\n",
    "    return embeddings"
   ]
  },
  {
   "cell_type": "markdown",
   "metadata": {},
   "source": [
    "## Run on entire dataset"
   ]
  },
  {
   "cell_type": "code",
   "execution_count": null,
   "metadata": {},
   "outputs": [],
   "source": [
    "from datasets import Dataset, DatasetDict"
   ]
  },
  {
   "cell_type": "code",
   "execution_count": null,
   "metadata": {},
   "outputs": [
    {
     "name": "stderr",
     "output_type": "stream",
     "text": [
      "100%|██████████| 955/955 [00:09<00:00, 95.77it/s]\n",
      "100%|██████████| 955/955 [00:15<00:00, 61.53it/s]\n",
      "100%|██████████| 995/995 [00:09<00:00, 100.20it/s]\n",
      "100%|██████████| 995/995 [00:16<00:00, 61.80it/s]\n"
     ]
    },
    {
     "data": {
      "text/plain": [
       "DatasetDict({\n",
       "    test: Dataset({\n",
       "        features: ['BERT_text_embedding', 'Sentence_T5_text_embedding'],\n",
       "        num_rows: 955\n",
       "    })\n",
       "    dev: Dataset({\n",
       "        features: ['BERT_text_embedding', 'Sentence_T5_text_embedding'],\n",
       "        num_rows: 995\n",
       "    })\n",
       "})"
      ]
     },
     "execution_count": 23,
     "metadata": {},
     "output_type": "execute_result"
    }
   ],
   "source": [
    "text_emb_dataset_dict = DatasetDict()\n",
    "for split in ['train','test','dev']:\n",
    "    data = rhf_dataset_dict[split]['caption']\n",
    "    bert_embeddings = extract_bert_embedding(data)\n",
    "    sentence_t5_embeddings = extract_sentence_T5_embedding(data)\n",
    "    nv_embeddings = extract_nv_embed_v2_embedding(data)\n",
    "    qwen_embeddings = extract_qwen_embedding(data)\n",
    "    sfr_embeddings = extract_sfr_embedding(data)\n",
    "    text_emb_dataset_dict[split] = Dataset.from_dict({\n",
    "        'BERT_text_embedding': bert_embeddings,\n",
    "        'Sentence_T5_text_embedding': sentence_t5_embeddings,\n",
    "        'NV_Embed_v2_text_embedding': nv_embeddings,\n",
    "        'Qwen2_text_embedding': qwen_embeddings,\n",
    "        'SFR_text_embedding': sfr_embeddings\n",
    "        })\n",
    "text_emb_dataset_dict"
   ]
  },
  {
   "cell_type": "code",
   "execution_count": null,
   "metadata": {},
   "outputs": [
    {
     "data": {
      "application/vnd.jupyter.widget-view+json": {
       "model_id": "17e1146e5728460db1967e2ec950a384",
       "version_major": 2,
       "version_minor": 0
      },
      "text/plain": [
       "Uploading the dataset shards:   0%|          | 0/1 [00:00<?, ?it/s]"
      ]
     },
     "metadata": {},
     "output_type": "display_data"
    },
    {
     "data": {
      "application/vnd.jupyter.widget-view+json": {
       "model_id": "0002786cbdc4457a959f5c583399a73c",
       "version_major": 2,
       "version_minor": 0
      },
      "text/plain": [
       "Creating parquet from Arrow format:   0%|          | 0/1 [00:00<?, ?ba/s]"
      ]
     },
     "metadata": {},
     "output_type": "display_data"
    },
    {
     "data": {
      "application/vnd.jupyter.widget-view+json": {
       "model_id": "dd91534519324a28aeb79b1652679773",
       "version_major": 2,
       "version_minor": 0
      },
      "text/plain": [
       "Uploading the dataset shards:   0%|          | 0/1 [00:00<?, ?it/s]"
      ]
     },
     "metadata": {},
     "output_type": "display_data"
    },
    {
     "data": {
      "application/vnd.jupyter.widget-view+json": {
       "model_id": "85eba9d2f5074a44a2801c1d18cc9831",
       "version_major": 2,
       "version_minor": 0
      },
      "text/plain": [
       "Creating parquet from Arrow format:   0%|          | 0/1 [00:00<?, ?ba/s]"
      ]
     },
     "metadata": {},
     "output_type": "display_data"
    },
    {
     "data": {
      "text/plain": [
       "CommitInfo(commit_url='https://huggingface.co/datasets/enwq/text_embedding/commit/778c66e46a4739b6c48604ac888b1627b66d3b51', commit_message='Upload dataset', commit_description='', oid='778c66e46a4739b6c48604ac888b1627b66d3b51', pr_url=None, repo_url=RepoUrl('https://huggingface.co/datasets/enwq/text_embedding', endpoint='https://huggingface.co', repo_type='dataset', repo_id='enwq/text_embedding'), pr_revision=None, pr_num=None)"
      ]
     },
     "execution_count": 26,
     "metadata": {},
     "output_type": "execute_result"
    }
   ],
   "source": [
    "text_emb_dataset_dict.push_to_hub(\"appliedml2024/text_embedding\")"
   ]
  }
 ],
 "metadata": {
  "kernelspec": {
   "display_name": "huggingface",
   "language": "python",
   "name": "python3"
  },
  "language_info": {
   "codemirror_mode": {
    "name": "ipython",
    "version": 3
   },
   "file_extension": ".py",
   "mimetype": "text/x-python",
   "name": "python",
   "nbconvert_exporter": "python",
   "pygments_lexer": "ipython3",
   "version": "3.11.9"
  }
 },
 "nbformat": 4,
 "nbformat_minor": 2
}
